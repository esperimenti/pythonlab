{
 "cells": [
  {
   "cell_type": "code",
   "execution_count": 1,
   "metadata": {},
   "outputs": [
    {
     "name": "stdout",
     "output_type": "stream",
     "text": [
      "Vector: (Decimal('2'), Decimal('3'), Decimal('4'))\n",
      "Vector: (Decimal('0'), Decimal('1'), Decimal('2'))\n",
      "Vector: (Decimal('3'), Decimal('6'), Decimal('9'))\n"
     ]
    }
   ],
   "source": [
    "from vector import Vector\n",
    "#Ex1 - basic operations plus minus and times_scalar\n",
    "v1 = Vector([1,2,3])\n",
    "v2 = Vector([1,1,1])\n",
    "\n",
    "v1==v1\n",
    "print(v1.plus(v2))\n",
    "print(v1.minus(v2))\n",
    "print(v1.times_scalar(3))\n",
    "\n",
    "\n",
    "\n"
   ]
  },
  {
   "cell_type": "code",
   "execution_count": 2,
   "metadata": {},
   "outputs": [
    {
     "name": "stdout",
     "output_type": "stream",
     "text": [
      "7.4402829247280646285389593685977160930633544921875\n",
      "10.8841875672922885343041343730874359607696533203125\n",
      "Vector: (Decimal('0.933935214086640295130539147343'), Decimal('-0.357442325262329983594964055642'))\n",
      "Vector: (Decimal('0.340401295943301353537171045562'), Decimal('0.530043701298487295255023200306'), Decimal('-0.776647044952802835008995686630'))\n"
     ]
    }
   ],
   "source": [
    "#Ex2 - magnitude and normalized\n",
    "from vector import Vector\n",
    "\n",
    "v3 = Vector({-0.221,7.437})\n",
    "print(v3.magnitude())\n",
    "\n",
    "v4 = Vector([8.813,-1.331,-6.247])\n",
    "print(v4.magnitude())\n",
    "\n",
    "v5 = Vector([5.581,-2.136])\n",
    "print(v5.normalized())\n",
    "\n",
    "v6 = Vector([1.996,3.108,-4.554])\n",
    "print(v6.normalized())\n"
   ]
  },
  {
   "cell_type": "code",
   "execution_count": 1,
   "metadata": {},
   "outputs": [
    {
     "name": "stdout",
     "output_type": "stream",
     "text": [
      "-41.3822859999999945439839166283\n",
      "56.3971780000000056997571107331\n",
      "3.07202630984\n",
      "60.2758112052\n"
     ]
    }
   ],
   "source": [
    "#Ex3 - inner product and angle in radians and degree\n",
    "from vector import Vector\n",
    "\n",
    "v7 = Vector([7.887,4.138])\n",
    "v8 = Vector([-8.802,6.776])\n",
    "print(v7.dot(v8))\n",
    "#print(v7.angle(v8))\n",
    "\n",
    "v9 = Vector([-5.955,-4.904,-1.874])\n",
    "v10 = Vector([-4.496,-8.755,7.103])\n",
    "print(v9.dot(v10))\n",
    "#print(v7.angle(v8))\n",
    "\n",
    "v11 = Vector([3.183,-7.627])\n",
    "v12 = Vector([-2.668,5.319])\n",
    "print(v11.angle_with(v12))\n",
    "\n",
    "v13 = Vector([7.35,0.221,5.188])\n",
    "v14 = Vector([2.751,8.259,3.985])\n",
    "print(v13.angle_degree(v14))"
   ]
  },
  {
   "cell_type": "code",
   "execution_count": 4,
   "metadata": {},
   "outputs": [
    {
     "name": "stdout",
     "output_type": "stream",
     "text": [
      "True\n",
      "False\n",
      "False\n",
      "False\n",
      "False\n",
      "True\n",
      "True\n",
      "True\n"
     ]
    }
   ],
   "source": [
    "#Ex4 - parallel and orthogonal\n",
    "from vector import Vector\n",
    "v15 = Vector([-7.579,-7.88])\n",
    "v16 = Vector([22.737,23.64])\n",
    "print(v15.is_parallel_to(v16))\n",
    "print(v15.is_orthogonal_to(v16))\n",
    "\n",
    "\n",
    "v17 = Vector([-2.029,9.97,4.172])\n",
    "v18 = Vector([-9.231,-6.639,-7.245])\n",
    "print(v17.is_parallel_to(v18))\n",
    "print(v17.is_orthogonal_to(v18))\n",
    "\n",
    "\n",
    "v177 = Vector([-2.328,-7.284,-1.214])\n",
    "v188 = Vector([-1.821,1.072,-2.94])\n",
    "print(v177.is_parallel_to(v188))\n",
    "print(v177.is_orthogonal_to(v188))\n",
    "\n",
    "v19 = Vector([2.118,4.827])\n",
    "v20 = Vector([0,0])\n",
    "print(v19.is_parallel_to(v20))\n",
    "print(v19.is_orthogonal_to(v20))\n",
    "\n"
   ]
  },
  {
   "cell_type": "code",
   "execution_count": 4,
   "metadata": {},
   "outputs": [
    {
     "name": "stdout",
     "output_type": "stream",
     "text": [
      "Vector: (Decimal('1.08260696248446669921320880516'), Decimal('2.67174275832530224589459303452'))\n",
      "Vector: (Decimal('-8.35207599615865790213899801562'), Decimal('3.38540288070908625794674714098'), Decimal('-1.44251550422782271011544955892'))\n",
      "Vector: (Decimal('1.96851616721408976169328214908'), Decimal('-2.81076074843935622616363571113'), Decimal('0.848084963357850331356993057470'), Decimal('2.67981323325615782557589918679'))\n",
      "Vector: (Decimal('1.04048383278591013527802116571'), Decimal('-3.36123925156064348251384262723'), Decimal('2.84391503664214983917326352495'), Decimal('-5.18981323325615761241307845876'))\n"
     ]
    }
   ],
   "source": [
    "#Ex5\n",
    "from vector import Vector\n",
    "v21 = Vector([3.039,1.879])\n",
    "v22 = Vector([0.825,2.036])\n",
    "\n",
    "print(v21.component_parallel_to(v22))\n",
    "\n",
    "v21 = Vector([-9.88,-3.246,-8.159])\n",
    "v22 = Vector([-2.155,-9.353,-9.473])\n",
    "\n",
    "print(v21.component_orthogonal_to(v22))\n",
    "\n",
    "v21 = Vector([3.009,-6.172,3.692,-2.51])\n",
    "v22 = Vector([6.404,-9.144,2.759,8.718])\n",
    "v1= v21.component_parallel_to(v22)\n",
    "v2 = v21.component_orthogonal_to(v22)\n",
    "print v1\n",
    "print v2\n"
   ]
  },
  {
   "cell_type": "code",
   "execution_count": 1,
   "metadata": {},
   "outputs": [
    {
     "name": "stdout",
     "output_type": "stream",
     "text": [
      "Vector: (Decimal('9'), Decimal('-13'), Decimal('3'))\n",
      "Vector: (Decimal('-11.2045709999999977337168388658'), Decimal('-97.6094439999999908463337305875'), Decimal('-105.685161999999993914045148813'))\n",
      "142.1222214018463319007423706352710723876953125\n",
      "42.5649373994189375025598565117\n"
     ]
    }
   ],
   "source": [
    "#Ex6\n",
    "from vector import Vector\n",
    "\n",
    "v23 = Vector([5,3,-2])\n",
    "v24 = Vector([-1,0,3])\n",
    "\n",
    "print(v23.cross_product(v24))\n",
    "\n",
    "v23 = Vector([8.462,7.893,-8.187])\n",
    "v24 = Vector([6.984,-5.975,4.778])\n",
    "\n",
    "print(v23.cross_product(v24))\n",
    "\n",
    "v23 = Vector([-8.987,-9.838,5.031])\n",
    "v24 = Vector([-4.268,-1.861,-8.866])\n",
    "\n",
    "print(v23.area_parallelogram(v24))\n",
    "\n",
    "v23 = Vector([1.5,9.547,3.691])\n",
    "v24 = Vector([-6.007,0.124,5.772])\n",
    "\n",
    "print(v23.area_triangle(v24))"
   ]
  }
 ],
 "metadata": {
  "kernelspec": {
   "display_name": "Python 2",
   "language": "python",
   "name": "python2"
  },
  "language_info": {
   "codemirror_mode": {
    "name": "ipython",
    "version": 2
   },
   "file_extension": ".py",
   "mimetype": "text/x-python",
   "name": "python",
   "nbconvert_exporter": "python",
   "pygments_lexer": "ipython2",
   "version": "2.7.14"
  }
 },
 "nbformat": 4,
 "nbformat_minor": 2
}
